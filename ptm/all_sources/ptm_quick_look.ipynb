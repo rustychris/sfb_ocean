{
 "cells": [
  {
   "cell_type": "code",
   "execution_count": 1,
   "metadata": {},
   "outputs": [],
   "source": [
    "import six\n",
    "import os\n",
    "import numpy as np\n",
    "import matplotlib.pyplot as plt\n",
    "import pandas as pd\n",
    "import glob\n",
    "from stompy.model.fish_ptm import ptm_config, ptm_tools\n",
    "six.moves.reload_module(ptm_config)\n",
    "%matplotlib notebook"
   ]
  },
  {
   "cell_type": "code",
   "execution_count": 5,
   "metadata": {},
   "outputs": [],
   "source": [
    "cfg=ptm_config.PtmConfig.load('/opt2/sfb_ocean/ptm/all_source_020/20170715/w0.0')"
   ]
  },
  {
   "cell_type": "code",
   "execution_count": 6,
   "metadata": {},
   "outputs": [
    {
     "data": {
      "text/html": [
       "<div>\n",
       "<style scoped>\n",
       "    .dataframe tbody tr th:only-of-type {\n",
       "        vertical-align: middle;\n",
       "    }\n",
       "\n",
       "    .dataframe tbody tr th {\n",
       "        vertical-align: top;\n",
       "    }\n",
       "\n",
       "    .dataframe thead th {\n",
       "        text-align: right;\n",
       "    }\n",
       "</style>\n",
       "<table border=\"1\" class=\"dataframe\">\n",
       "  <thead>\n",
       "    <tr style=\"text-align: right;\">\n",
       "      <th></th>\n",
       "      <th>filename</th>\n",
       "      <th>nparticles</th>\n",
       "      <th>nsteps</th>\n",
       "    </tr>\n",
       "  </thead>\n",
       "  <tbody>\n",
       "    <tr>\n",
       "      <th>0</th>\n",
       "      <td>Alameda_Creek_none_bin.out</td>\n",
       "      <td>3600</td>\n",
       "      <td>1441</td>\n",
       "    </tr>\n",
       "    <tr>\n",
       "      <th>1</th>\n",
       "      <td>Arroyo_Corte__none_bin.out</td>\n",
       "      <td>2668</td>\n",
       "      <td>1441</td>\n",
       "    </tr>\n",
       "    <tr>\n",
       "      <th>2</th>\n",
       "      <td>Arroyo_del_Ha_none_bin.out</td>\n",
       "      <td>3254</td>\n",
       "      <td>1441</td>\n",
       "    </tr>\n",
       "    <tr>\n",
       "      <th>3</th>\n",
       "      <td>Black_Point_none_bin.out</td>\n",
       "      <td>2030</td>\n",
       "      <td>1441</td>\n",
       "    </tr>\n",
       "    <tr>\n",
       "      <th>4</th>\n",
       "      <td>Castro_Creek_none_bin.out</td>\n",
       "      <td>2895</td>\n",
       "      <td>1441</td>\n",
       "    </tr>\n",
       "    <tr>\n",
       "      <th>5</th>\n",
       "      <td>Cerrito_Creek_none_bin.out</td>\n",
       "      <td>3267</td>\n",
       "      <td>1441</td>\n",
       "    </tr>\n",
       "    <tr>\n",
       "      <th>6</th>\n",
       "      <td>Colma_Creek_none_bin.out</td>\n",
       "      <td>3481</td>\n",
       "      <td>1441</td>\n",
       "    </tr>\n",
       "    <tr>\n",
       "      <th>7</th>\n",
       "      <td>Corte_Madera__none_bin.out</td>\n",
       "      <td>3600</td>\n",
       "      <td>1441</td>\n",
       "    </tr>\n",
       "    <tr>\n",
       "      <th>8</th>\n",
       "      <td>Coyote_Creek__1ser_none_bin.out</td>\n",
       "      <td>2375</td>\n",
       "      <td>1441</td>\n",
       "    </tr>\n",
       "    <tr>\n",
       "      <th>9</th>\n",
       "      <td>Coyote_Creek__none_bin.out</td>\n",
       "      <td>3600</td>\n",
       "      <td>1441</td>\n",
       "    </tr>\n",
       "    <tr>\n",
       "      <th>10</th>\n",
       "      <td>Coyote_Point_none_bin.out</td>\n",
       "      <td>3561</td>\n",
       "      <td>1441</td>\n",
       "    </tr>\n",
       "    <tr>\n",
       "      <th>11</th>\n",
       "      <td>Easton_Creek_none_bin.out</td>\n",
       "      <td>3571</td>\n",
       "      <td>1441</td>\n",
       "    </tr>\n",
       "    <tr>\n",
       "      <th>12</th>\n",
       "      <td>Estudillo_Can_none_bin.out</td>\n",
       "      <td>3558</td>\n",
       "      <td>1441</td>\n",
       "    </tr>\n",
       "    <tr>\n",
       "      <th>13</th>\n",
       "      <td>Foster_City_none_bin.out</td>\n",
       "      <td>3547</td>\n",
       "      <td>1441</td>\n",
       "    </tr>\n",
       "    <tr>\n",
       "      <th>14</th>\n",
       "      <td>Gallinas_Cree_none_bin.out</td>\n",
       "      <td>3094</td>\n",
       "      <td>1441</td>\n",
       "    </tr>\n",
       "    <tr>\n",
       "      <th>15</th>\n",
       "      <td>Garrity_Creek_none_bin.out</td>\n",
       "      <td>3140</td>\n",
       "      <td>1441</td>\n",
       "    </tr>\n",
       "    <tr>\n",
       "      <th>16</th>\n",
       "      <td>Glen_Echo_Cre_none_bin.out</td>\n",
       "      <td>2864</td>\n",
       "      <td>1441</td>\n",
       "    </tr>\n",
       "    <tr>\n",
       "      <th>17</th>\n",
       "      <td>Guadalupe_Riv_none_bin.out</td>\n",
       "      <td>3600</td>\n",
       "      <td>1441</td>\n",
       "    </tr>\n",
       "    <tr>\n",
       "      <th>18</th>\n",
       "      <td>Guadalupe_Slo_none_bin.out</td>\n",
       "      <td>3600</td>\n",
       "      <td>1441</td>\n",
       "    </tr>\n",
       "    <tr>\n",
       "      <th>19</th>\n",
       "      <td>Hastings_Slou_none_bin.out</td>\n",
       "      <td>3396</td>\n",
       "      <td>1441</td>\n",
       "    </tr>\n",
       "    <tr>\n",
       "      <th>20</th>\n",
       "      <td>Highline_Cana_none_bin.out</td>\n",
       "      <td>3595</td>\n",
       "      <td>1441</td>\n",
       "    </tr>\n",
       "    <tr>\n",
       "      <th>21</th>\n",
       "      <td>Islais_Creek_none_bin.out</td>\n",
       "      <td>2415</td>\n",
       "      <td>1441</td>\n",
       "    </tr>\n",
       "    <tr>\n",
       "      <th>22</th>\n",
       "      <td>Matadero_and__none_bin.out</td>\n",
       "      <td>3599</td>\n",
       "      <td>1441</td>\n",
       "    </tr>\n",
       "    <tr>\n",
       "      <th>23</th>\n",
       "      <td>Meeker_Slough_none_bin.out</td>\n",
       "      <td>3167</td>\n",
       "      <td>1441</td>\n",
       "    </tr>\n",
       "    <tr>\n",
       "      <th>24</th>\n",
       "      <td>Miller_Creek_none_bin.out</td>\n",
       "      <td>3117</td>\n",
       "      <td>1441</td>\n",
       "    </tr>\n",
       "    <tr>\n",
       "      <th>25</th>\n",
       "      <td>Mills_Creek_none_bin.out</td>\n",
       "      <td>3578</td>\n",
       "      <td>1441</td>\n",
       "    </tr>\n",
       "    <tr>\n",
       "      <th>26</th>\n",
       "      <td>Montezuma_Slo_1ser_none_bin.out</td>\n",
       "      <td>3583</td>\n",
       "      <td>1441</td>\n",
       "    </tr>\n",
       "    <tr>\n",
       "      <th>27</th>\n",
       "      <td>Montezuma_Slo_none_bin.out</td>\n",
       "      <td>3544</td>\n",
       "      <td>1441</td>\n",
       "    </tr>\n",
       "    <tr>\n",
       "      <th>28</th>\n",
       "      <td>Napa_River_none_bin.out</td>\n",
       "      <td>3468</td>\n",
       "      <td>1441</td>\n",
       "    </tr>\n",
       "    <tr>\n",
       "      <th>29</th>\n",
       "      <td>Novato_Creek_none_bin.out</td>\n",
       "      <td>3402</td>\n",
       "      <td>1441</td>\n",
       "    </tr>\n",
       "    <tr>\n",
       "      <th>...</th>\n",
       "      <td>...</td>\n",
       "      <td>...</td>\n",
       "      <td>...</td>\n",
       "    </tr>\n",
       "    <tr>\n",
       "      <th>56</th>\n",
       "      <td>Sulphur_Sprin_none_bin.out</td>\n",
       "      <td>3277</td>\n",
       "      <td>1441</td>\n",
       "    </tr>\n",
       "    <tr>\n",
       "      <th>57</th>\n",
       "      <td>Temescal_Cree_none_bin.out</td>\n",
       "      <td>2957</td>\n",
       "      <td>1441</td>\n",
       "    </tr>\n",
       "    <tr>\n",
       "      <th>58</th>\n",
       "      <td>Visitacion_none_bin.out</td>\n",
       "      <td>2950</td>\n",
       "      <td>1441</td>\n",
       "    </tr>\n",
       "    <tr>\n",
       "      <th>59</th>\n",
       "      <td>cccsd_none_bin.out</td>\n",
       "      <td>3366</td>\n",
       "      <td>1441</td>\n",
       "    </tr>\n",
       "    <tr>\n",
       "      <th>60</th>\n",
       "      <td>ddsd_none_bin.out</td>\n",
       "      <td>1466</td>\n",
       "      <td>1441</td>\n",
       "    </tr>\n",
       "    <tr>\n",
       "      <th>61</th>\n",
       "      <td>fs_none_bin.out</td>\n",
       "      <td>3600</td>\n",
       "      <td>1441</td>\n",
       "    </tr>\n",
       "    <tr>\n",
       "      <th>62</th>\n",
       "      <td>lg_none_bin.out</td>\n",
       "      <td>3129</td>\n",
       "      <td>1441</td>\n",
       "    </tr>\n",
       "    <tr>\n",
       "      <th>63</th>\n",
       "      <td>palo_alto_none_bin.out</td>\n",
       "      <td>3599</td>\n",
       "      <td>1441</td>\n",
       "    </tr>\n",
       "    <tr>\n",
       "      <th>64</th>\n",
       "      <td>petaluma_none_bin.out</td>\n",
       "      <td>3585</td>\n",
       "      <td>1441</td>\n",
       "    </tr>\n",
       "    <tr>\n",
       "      <th>65</th>\n",
       "      <td>san_jose_none_bin.out</td>\n",
       "      <td>3600</td>\n",
       "      <td>1441</td>\n",
       "    </tr>\n",
       "    <tr>\n",
       "      <th>66</th>\n",
       "      <td>sonoma_valley_none_bin.out</td>\n",
       "      <td>3595</td>\n",
       "      <td>1441</td>\n",
       "    </tr>\n",
       "    <tr>\n",
       "      <th>67</th>\n",
       "      <td>src000_none_bin.out</td>\n",
       "      <td>3328</td>\n",
       "      <td>1441</td>\n",
       "    </tr>\n",
       "    <tr>\n",
       "      <th>68</th>\n",
       "      <td>src001_none_bin.out</td>\n",
       "      <td>2458</td>\n",
       "      <td>1441</td>\n",
       "    </tr>\n",
       "    <tr>\n",
       "      <th>69</th>\n",
       "      <td>src002_none_bin.out</td>\n",
       "      <td>2530</td>\n",
       "      <td>1441</td>\n",
       "    </tr>\n",
       "    <tr>\n",
       "      <th>70</th>\n",
       "      <td>sunnyvale_none_bin.out</td>\n",
       "      <td>3600</td>\n",
       "      <td>1441</td>\n",
       "    </tr>\n",
       "    <tr>\n",
       "      <th>71</th>\n",
       "      <td>unnamed00_none_bin.out</td>\n",
       "      <td>2811</td>\n",
       "      <td>1441</td>\n",
       "    </tr>\n",
       "    <tr>\n",
       "      <th>72</th>\n",
       "      <td>unnamed01_none_bin.out</td>\n",
       "      <td>2635</td>\n",
       "      <td>1441</td>\n",
       "    </tr>\n",
       "    <tr>\n",
       "      <th>73</th>\n",
       "      <td>unnamed02_none_bin.out</td>\n",
       "      <td>2124</td>\n",
       "      <td>1441</td>\n",
       "    </tr>\n",
       "    <tr>\n",
       "      <th>74</th>\n",
       "      <td>unnamed03_none_bin.out</td>\n",
       "      <td>3006</td>\n",
       "      <td>1441</td>\n",
       "    </tr>\n",
       "    <tr>\n",
       "      <th>75</th>\n",
       "      <td>unnamed04_none_bin.out</td>\n",
       "      <td>3511</td>\n",
       "      <td>1441</td>\n",
       "    </tr>\n",
       "    <tr>\n",
       "      <th>76</th>\n",
       "      <td>unnamed05_none_bin.out</td>\n",
       "      <td>2726</td>\n",
       "      <td>1441</td>\n",
       "    </tr>\n",
       "    <tr>\n",
       "      <th>77</th>\n",
       "      <td>unnamed06_none_bin.out</td>\n",
       "      <td>2922</td>\n",
       "      <td>1441</td>\n",
       "    </tr>\n",
       "    <tr>\n",
       "      <th>78</th>\n",
       "      <td>unnamed07_none_bin.out</td>\n",
       "      <td>3391</td>\n",
       "      <td>1441</td>\n",
       "    </tr>\n",
       "    <tr>\n",
       "      <th>79</th>\n",
       "      <td>unnamed08_none_bin.out</td>\n",
       "      <td>3335</td>\n",
       "      <td>1441</td>\n",
       "    </tr>\n",
       "    <tr>\n",
       "      <th>80</th>\n",
       "      <td>unnamed09_none_bin.out</td>\n",
       "      <td>3600</td>\n",
       "      <td>1441</td>\n",
       "    </tr>\n",
       "    <tr>\n",
       "      <th>81</th>\n",
       "      <td>unnamed10_none_bin.out</td>\n",
       "      <td>3600</td>\n",
       "      <td>1441</td>\n",
       "    </tr>\n",
       "    <tr>\n",
       "      <th>82</th>\n",
       "      <td>unnamed11_none_bin.out</td>\n",
       "      <td>3328</td>\n",
       "      <td>1441</td>\n",
       "    </tr>\n",
       "    <tr>\n",
       "      <th>83</th>\n",
       "      <td>unnamed12_none_bin.out</td>\n",
       "      <td>3239</td>\n",
       "      <td>1441</td>\n",
       "    </tr>\n",
       "    <tr>\n",
       "      <th>84</th>\n",
       "      <td>unnamed13_none_bin.out</td>\n",
       "      <td>3314</td>\n",
       "      <td>1441</td>\n",
       "    </tr>\n",
       "    <tr>\n",
       "      <th>85</th>\n",
       "      <td>unnamed14_none_bin.out</td>\n",
       "      <td>3351</td>\n",
       "      <td>1441</td>\n",
       "    </tr>\n",
       "  </tbody>\n",
       "</table>\n",
       "<p>86 rows × 3 columns</p>\n",
       "</div>"
      ],
      "text/plain": [
       "                           filename  nparticles  nsteps\n",
       "0        Alameda_Creek_none_bin.out        3600    1441\n",
       "1        Arroyo_Corte__none_bin.out        2668    1441\n",
       "2        Arroyo_del_Ha_none_bin.out        3254    1441\n",
       "3          Black_Point_none_bin.out        2030    1441\n",
       "4         Castro_Creek_none_bin.out        2895    1441\n",
       "5        Cerrito_Creek_none_bin.out        3267    1441\n",
       "6          Colma_Creek_none_bin.out        3481    1441\n",
       "7        Corte_Madera__none_bin.out        3600    1441\n",
       "8   Coyote_Creek__1ser_none_bin.out        2375    1441\n",
       "9        Coyote_Creek__none_bin.out        3600    1441\n",
       "10        Coyote_Point_none_bin.out        3561    1441\n",
       "11        Easton_Creek_none_bin.out        3571    1441\n",
       "12       Estudillo_Can_none_bin.out        3558    1441\n",
       "13         Foster_City_none_bin.out        3547    1441\n",
       "14       Gallinas_Cree_none_bin.out        3094    1441\n",
       "15       Garrity_Creek_none_bin.out        3140    1441\n",
       "16       Glen_Echo_Cre_none_bin.out        2864    1441\n",
       "17       Guadalupe_Riv_none_bin.out        3600    1441\n",
       "18       Guadalupe_Slo_none_bin.out        3600    1441\n",
       "19       Hastings_Slou_none_bin.out        3396    1441\n",
       "20       Highline_Cana_none_bin.out        3595    1441\n",
       "21        Islais_Creek_none_bin.out        2415    1441\n",
       "22       Matadero_and__none_bin.out        3599    1441\n",
       "23       Meeker_Slough_none_bin.out        3167    1441\n",
       "24        Miller_Creek_none_bin.out        3117    1441\n",
       "25         Mills_Creek_none_bin.out        3578    1441\n",
       "26  Montezuma_Slo_1ser_none_bin.out        3583    1441\n",
       "27       Montezuma_Slo_none_bin.out        3544    1441\n",
       "28          Napa_River_none_bin.out        3468    1441\n",
       "29        Novato_Creek_none_bin.out        3402    1441\n",
       "..                              ...         ...     ...\n",
       "56       Sulphur_Sprin_none_bin.out        3277    1441\n",
       "57       Temescal_Cree_none_bin.out        2957    1441\n",
       "58          Visitacion_none_bin.out        2950    1441\n",
       "59               cccsd_none_bin.out        3366    1441\n",
       "60                ddsd_none_bin.out        1466    1441\n",
       "61                  fs_none_bin.out        3600    1441\n",
       "62                  lg_none_bin.out        3129    1441\n",
       "63           palo_alto_none_bin.out        3599    1441\n",
       "64            petaluma_none_bin.out        3585    1441\n",
       "65            san_jose_none_bin.out        3600    1441\n",
       "66       sonoma_valley_none_bin.out        3595    1441\n",
       "67              src000_none_bin.out        3328    1441\n",
       "68              src001_none_bin.out        2458    1441\n",
       "69              src002_none_bin.out        2530    1441\n",
       "70           sunnyvale_none_bin.out        3600    1441\n",
       "71           unnamed00_none_bin.out        2811    1441\n",
       "72           unnamed01_none_bin.out        2635    1441\n",
       "73           unnamed02_none_bin.out        2124    1441\n",
       "74           unnamed03_none_bin.out        3006    1441\n",
       "75           unnamed04_none_bin.out        3511    1441\n",
       "76           unnamed05_none_bin.out        2726    1441\n",
       "77           unnamed06_none_bin.out        2922    1441\n",
       "78           unnamed07_none_bin.out        3391    1441\n",
       "79           unnamed08_none_bin.out        3335    1441\n",
       "80           unnamed09_none_bin.out        3600    1441\n",
       "81           unnamed10_none_bin.out        3600    1441\n",
       "82           unnamed11_none_bin.out        3328    1441\n",
       "83           unnamed12_none_bin.out        3239    1441\n",
       "84           unnamed13_none_bin.out        3314    1441\n",
       "85           unnamed14_none_bin.out        3351    1441\n",
       "\n",
       "[86 rows x 3 columns]"
      ]
     },
     "execution_count": 6,
     "metadata": {},
     "output_type": "execute_result"
    }
   ],
   "source": [
    "recs=[]\n",
    "\n",
    "for bf in cfg.bin_files():\n",
    "    ptmbin=ptm_tools.PtmBin(bf)\n",
    "    tn=ptmbin.count_timesteps()\n",
    "    timestamp,data=ptmbin.read_timestep(tn-1)\n",
    "    recs.append(dict(filename=os.path.basename(bf),\n",
    "                     nsteps=tn,\n",
    "                     nparticles=len(data)))   \n",
    "\n",
    "df=pd.DataFrame(recs)\n",
    "df"
   ]
  },
  {
   "cell_type": "code",
   "execution_count": 7,
   "metadata": {},
   "outputs": [
    {
     "data": {
      "text/plain": [
       "273853"
      ]
     },
     "execution_count": 7,
     "metadata": {},
     "output_type": "execute_result"
    }
   ],
   "source": [
    "df.nparticles.sum()"
   ]
  },
  {
   "cell_type": "code",
   "execution_count": 8,
   "metadata": {},
   "outputs": [],
   "source": [
    "ptmbin=ptm_tools.PtmBin(cfg.bin_files()[0])"
   ]
  },
  {
   "cell_type": "code",
   "execution_count": 19,
   "metadata": {},
   "outputs": [
    {
     "data": {
      "text/plain": [
       "'/opt2/sfb_ocean/ptm/all_source_020/20170715/w0.0/Alameda_Creek_none_bin.out'"
      ]
     },
     "execution_count": 19,
     "metadata": {},
     "output_type": "execute_result"
    }
   ],
   "source": [
    "cfg.bin_files()[0]"
   ]
  },
  {
   "cell_type": "code",
   "execution_count": 9,
   "metadata": {},
   "outputs": [
    {
     "data": {
      "text/plain": [
       "1441"
      ]
     },
     "execution_count": 9,
     "metadata": {},
     "output_type": "execute_result"
    }
   ],
   "source": [
    "ptmbin.count_timesteps()"
   ]
  },
  {
   "cell_type": "code",
   "execution_count": 10,
   "metadata": {},
   "outputs": [],
   "source": [
    "timestamp,data=ptmbin.read_timestep(339)"
   ]
  },
  {
   "cell_type": "code",
   "execution_count": 12,
   "metadata": {},
   "outputs": [
    {
     "data": {
      "text/plain": [
       "(562063.2071792344, 583831.2974271997, 4146982.4755172483, 4164760.699483908)"
      ]
     },
     "execution_count": 12,
     "metadata": {},
     "output_type": "execute_result"
    },
    {
     "data": {
      "image/png": "[encoded data removed]",
      "text/plain": [
       "<Figure size 432x288 with 1 Axes>"
      ]
     },
     "metadata": {
      "needs_background": "light"
     },
     "output_type": "display_data"
    }
   ],
   "source": [
    "plt.figure()\n",
    "plt.plot(data['x'][:,0],\n",
    "         data['x'][:,1],'g.')\n",
    "plt.axis('equal')"
   ]
  },
  {
   "cell_type": "code",
   "execution_count": 13,
   "metadata": {},
   "outputs": [],
   "source": [
    "# how many particles get stuck for more than a day?\n",
    "stepA=1000\n",
    "stepB=stepA+24\n",
    "\n",
    "timeA,dataA=ptmbin.read_timestep(stepA)\n",
    "timeB,dataB=ptmbin.read_timestep(stepB)\n"
   ]
  },
  {
   "cell_type": "code",
   "execution_count": 14,
   "metadata": {},
   "outputs": [
    {
     "data": {
      "text/plain": [
       "(datetime.datetime(2017, 8, 25, 16, 0), datetime.datetime(2017, 8, 26, 16, 0))"
      ]
     },
     "execution_count": 14,
     "metadata": {},
     "output_type": "execute_result"
    }
   ],
   "source": [
    "timeA,timeB # yep, 24 hours apart."
   ]
  },
  {
   "cell_type": "code",
   "execution_count": 15,
   "metadata": {},
   "outputs": [
    {
     "data": {
      "text/plain": [
       "(3600, 3600)"
      ]
     },
     "execution_count": 15,
     "metadata": {},
     "output_type": "execute_result"
    }
   ],
   "source": [
    "len(dataA),len(dataB)"
   ]
  },
  {
   "cell_type": "code",
   "execution_count": 17,
   "metadata": {},
   "outputs": [
    {
     "data": {
      "text/plain": [
       "True"
      ]
     },
     "execution_count": 17,
     "metadata": {},
     "output_type": "execute_result"
    }
   ],
   "source": [
    "np.all( dataA['id']==dataB['id'] ) # good."
   ]
  },
  {
   "cell_type": "code",
   "execution_count": 18,
   "metadata": {},
   "outputs": [
    {
     "data": {
      "text/plain": [
       "3"
      ]
     },
     "execution_count": 18,
     "metadata": {},
     "output_type": "execute_result"
    }
   ],
   "source": [
    "np.sum( np.all( dataA['x']==dataB['x'],axis=1)) # just 3 particles."
   ]
  },
  {
   "cell_type": "code",
   "execution_count": 25,
   "metadata": {},
   "outputs": [
    {
     "name": "stdout",
     "output_type": "stream",
     "text": [
      "Alameda_Creek_none_bin.out      : 3/3600 0.1% stuck particles over 24 hour\n",
      "Alameda_Creek_up50000_bin.out   : 0/3600 0.0% stuck particles over 24 hour\n",
      "Alameda_Creek_down50000_bin.out : 109/3600 3.0% stuck particles over 24 hour\n"
     ]
    }
   ],
   "source": [
    "bin_files=['/opt2/sfb_ocean/ptm/all_source_020/20170715/w0.0/Alameda_Creek_none_bin.out',\n",
    "           '/opt2/sfb_ocean/ptm/all_source_020/20170715/w0.05/Alameda_Creek_up50000_bin.out',\n",
    "           '/opt2/sfb_ocean/ptm/all_source_020/20170715/w-0.05/Alameda_Creek_down50000_bin.out']\n",
    "\n",
    "# how many particles get stuck for more than a day?\n",
    "stepA=1000\n",
    "stepB=stepA+24\n",
    "\n",
    "for bf in bin_files:\n",
    "    pbf=ptm_tools.PtmBin(bf)\n",
    " \n",
    "    timeA,dataA=pbf.read_timestep(stepA)\n",
    "    timeB,dataB=pbf.read_timestep(stepB)\n",
    "    assert np.all( dataA['id']==dataB['id'] )\n",
    "    nstuck=np.sum( np.all( dataA['x']==dataB['x'],axis=1)) # just 3 particles. \n",
    "    print(f\"{os.path.basename(bf):32}: {nstuck}/{len(dataA)} {100.*nstuck/len(dataA):.1f}% stuck particles over 24 hour\")"
   ]
  }
 ],
 "metadata": {
  "kernelspec": {
   "display_name": "Python 3",
   "language": "python",
   "name": "python3"
  },
  "language_info": {
   "codemirror_mode": {
    "name": "ipython",
    "version": 3
   },
   "file_extension": ".py",
   "mimetype": "text/x-python",
   "name": "python",
   "nbconvert_exporter": "python",
   "pygments_lexer": "ipython3",
   "version": "3.7.1"
  }
 },
 "nbformat": 4,
 "nbformat_minor": 2
}
