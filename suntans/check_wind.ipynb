{
 "cells": [
  {
   "cell_type": "code",
   "execution_count": 1,
   "metadata": {},
   "outputs": [],
   "source": [
    "import xarray as xr\n",
    "import numpy as np\n",
    "import matplotlib.pyplot as plt\n",
    "%matplotlib notebook"
   ]
  },
  {
   "cell_type": "code",
   "execution_count": 2,
   "metadata": {},
   "outputs": [],
   "source": [
    "ds=xr.open_dataset('cache/sfei_wind/SFB_hourly_wind_and_met_data_2017.nc')"
   ]
  },
  {
   "cell_type": "code",
   "execution_count": 5,
   "metadata": {},
   "outputs": [
    {
     "data": {
      "text/plain": [
       "<xarray.Dataset>\n",
       "Dimensions:              (station: 52, time: 8760)\n",
       "Coordinates:\n",
       "  * time                 (time) float64 1.0 1.042 1.083 ... 365.9 365.9 366.0\n",
       "Dimensions without coordinates: station\n",
       "Data variables:\n",
       "    station_name         (station) object ...\n",
       "    station_backup       (station) object ...\n",
       "    station_description  (station) object ...\n",
       "    organization         (station) object ...\n",
       "    latitude             (station) float64 ...\n",
       "    longitude            (station) float64 ...\n",
       "    anemometer_height    (station) float64 ...\n",
       "    temperature_height   (station) float64 ...\n",
       "    humidity_height      (station) float64 ...\n",
       "    z0                   (station) float64 ...\n",
       "    z0t                  (station) float64 ...\n",
       "    z0q                  (station) float64 ...\n",
       "    u                    (time, station) float64 ...\n",
       "    v                    (time, station) float64 ...\n",
       "    Ta                   (time, station) float64 ...\n",
       "    Ts                   (time, station) float64 ...\n",
       "    rh                   (time, station) float64 ...\n",
       "    Pa                   (time, station) float64 ...\n",
       "    u10                  (time, station) float64 ...\n",
       "    v10                  (time, station) float64 ...\n",
       "Attributes:\n",
       "    description:  SF Bay Area wind/met data averaged onto a uniform hourly ti...\n",
       "    history:      Created 2019-03-16 11:38\n",
       "    source:       Allie King, SFEI"
      ]
     },
     "execution_count": 5,
     "metadata": {},
     "output_type": "execute_result"
    }
   ],
   "source": [
    "ds"
   ]
  },
  {
   "cell_type": "code",
   "execution_count": 11,
   "metadata": {},
   "outputs": [
    {
     "data": {
      "text/plain": [
       "<xarray.DataArray 'u10' (time: 8760)>\n",
       "array([0.000685, 0.000685, 0.000685, ..., 0.001712, 0.001941, 0.001826])\n",
       "Coordinates:\n",
       "  * time     (time) float64 1.0 1.042 1.083 1.125 ... 365.8 365.9 365.9 366.0"
      ]
     },
     "execution_count": 11,
     "metadata": {},
     "output_type": "execute_result"
    }
   ],
   "source": [
    "np.isnan(ds.u10).sum(dim='station') / len(ds.time)"
   ]
  },
  {
   "cell_type": "code",
   "execution_count": 7,
   "metadata": {},
   "outputs": [
    {
     "data": {
      "image/png": "[encoded data removed]",
      "text/plain": [
       "<Figure size 432x288 with 1 Axes>"
      ]
     },
     "metadata": {
      "needs_background": "light"
     },
     "output_type": "display_data"
    }
   ],
   "source": [
    "plt.figure()\n",
    "plt.plot(ds.longitude, ds.latitude,'ro')\n",
    "plt.gca().set_aspect(1./np.cos(ds.latitude.mean()))"
   ]
  },
  {
   "cell_type": "code",
   "execution_count": 16,
   "metadata": {},
   "outputs": [
    {
     "name": "stdout",
     "output_type": "stream",
     "text": [
      "0 frames, 2017-01-01T00:00:00 most recent\n",
      "96 frames, 2017-01-05T00:00:00 most recent\n",
      "192 frames, 2017-01-09T00:00:00 most recent\n",
      "288 frames, 2017-01-13T00:00:00 most recent\n",
      "384 frames, 2017-01-17T00:00:00 most recent\n",
      "480 frames, 2017-01-21T00:00:00 most recent\n",
      "576 frames, 2017-01-25T00:00:00 most recent\n",
      "672 frames, 2017-01-29T00:00:00 most recent\n",
      "768 frames, 2017-02-02T00:00:00 most recent\n",
      "864 frames, 2017-02-06T00:00:00 most recent\n",
      "960 frames, 2017-02-10T00:00:00 most recent\n",
      "1056 frames, 2017-02-14T00:00:00 most recent\n",
      "1152 frames, 2017-02-18T00:00:00 most recent\n",
      "1248 frames, 2017-02-22T00:00:00 most recent\n",
      "1344 frames, 2017-02-26T00:00:00 most recent\n",
      "1440 frames, 2017-03-02T00:00:00 most recent\n",
      "1536 frames, 2017-03-06T00:00:00 most recent\n",
      "1632 frames, 2017-03-10T00:00:00 most recent\n",
      "1728 frames, 2017-03-14T00:00:00 most recent\n",
      "1824 frames, 2017-03-18T00:00:00 most recent\n",
      "1920 frames, 2017-03-22T00:00:00 most recent\n",
      "2016 frames, 2017-03-26T00:00:00 most recent\n",
      "2112 frames, 2017-03-30T00:00:00 most recent\n",
      "2208 frames, 2017-04-03T00:00:00 most recent\n",
      "2304 frames, 2017-04-07T00:00:00 most recent\n",
      "2400 frames, 2017-04-11T00:00:00 most recent\n",
      "2496 frames, 2017-04-15T00:00:00 most recent\n",
      "2592 frames, 2017-04-19T00:00:00 most recent\n",
      "2688 frames, 2017-04-23T00:00:00 most recent\n",
      "2784 frames, 2017-04-27T00:00:00 most recent\n",
      "2880 frames, 2017-05-01T00:00:00 most recent\n",
      "2976 frames, 2017-05-05T00:00:00 most recent\n",
      "3072 frames, 2017-05-09T00:00:00 most recent\n",
      "3168 frames, 2017-05-13T00:00:00 most recent\n",
      "3264 frames, 2017-05-17T00:00:00 most recent\n",
      "3360 frames, 2017-05-21T00:00:00 most recent\n",
      "3456 frames, 2017-05-25T00:00:00 most recent\n",
      "3552 frames, 2017-05-29T00:00:00 most recent\n",
      "3648 frames, 2017-06-02T00:00:00 most recent\n",
      "3744 frames, 2017-06-06T00:00:00 most recent\n",
      "3840 frames, 2017-06-10T00:00:00 most recent\n",
      "3936 frames, 2017-06-14T00:00:00 most recent\n",
      "4032 frames, 2017-06-18T00:00:00 most recent\n",
      "4128 frames, 2017-06-22T00:00:00 most recent\n",
      "4224 frames, 2017-06-26T00:00:00 most recent\n",
      "4320 frames, 2017-06-30T00:00:00 most recent\n",
      "4416 frames, 2017-07-04T00:00:00 most recent\n",
      "4512 frames, 2017-07-08T00:00:00 most recent\n",
      "4608 frames, 2017-07-12T00:00:00 most recent\n",
      "4704 frames, 2017-07-16T00:00:00 most recent\n",
      "4800 frames, 2017-07-20T00:00:00 most recent\n",
      "4896 frames, 2017-07-24T00:00:00 most recent\n",
      "4992 frames, 2017-07-28T00:00:00 most recent\n",
      "5088 frames, 2017-08-01T00:00:00 most recent\n",
      "5184 frames, 2017-08-05T00:00:00 most recent\n",
      "5280 frames, 2017-08-09T00:00:00 most recent\n",
      "5376 frames, 2017-08-13T00:00:00 most recent\n",
      "5472 frames, 2017-08-17T00:00:00 most recent\n",
      "5568 frames, 2017-08-21T00:00:00 most recent\n",
      "5664 frames, 2017-08-25T00:00:00 most recent\n",
      "5760 frames, 2017-08-29T00:00:00 most recent\n",
      "5856 frames, 2017-09-02T00:00:00 most recent\n",
      "5952 frames, 2017-09-06T00:00:00 most recent\n",
      "6048 frames, 2017-09-10T00:00:00 most recent\n",
      "6144 frames, 2017-09-14T00:00:00 most recent\n",
      "6240 frames, 2017-09-18T00:00:00 most recent\n",
      "6336 frames, 2017-09-22T00:00:00 most recent\n",
      "6432 frames, 2017-09-26T00:00:00 most recent\n",
      "6528 frames, 2017-09-30T00:00:00 most recent\n",
      "6624 frames, 2017-10-04T00:00:00 most recent\n",
      "6720 frames, 2017-10-08T00:00:00 most recent\n",
      "6816 frames, 2017-10-12T00:00:00 most recent\n",
      "6912 frames, 2017-10-16T00:00:00 most recent\n",
      "7008 frames, 2017-10-20T00:00:00 most recent\n",
      "7104 frames, 2017-10-24T00:00:00 most recent\n",
      "7200 frames, 2017-10-28T00:00:00 most recent\n",
      "7296 frames, 2017-11-01T00:00:00 most recent\n",
      "7392 frames, 2017-11-05T00:00:00 most recent\n",
      "7488 frames, 2017-11-09T00:00:00 most recent\n",
      "7584 frames, 2017-11-13T00:00:00 most recent\n",
      "7680 frames, 2017-11-17T00:00:00 most recent\n",
      "7776 frames, 2017-11-21T00:00:00 most recent\n",
      "7872 frames, 2017-11-25T00:00:00 most recent\n",
      "7968 frames, 2017-11-29T00:00:00 most recent\n",
      "8064 frames, 2017-12-03T00:00:00 most recent\n",
      "8160 frames, 2017-12-07T00:00:00 most recent\n",
      "8256 frames, 2017-12-11T00:00:00 most recent\n",
      "8352 frames, 2017-12-15T00:00:00 most recent\n",
      "8448 frames, 2017-12-19T00:00:00 most recent\n",
      "8544 frames, 2017-12-23T00:00:00 most recent\n",
      "8640 frames, 2017-12-27T00:00:00 most recent\n",
      "8736 frames, 2017-12-31T00:00:00 most recent\n"
     ]
    }
   ],
   "source": [
    "import stompy.model.delft.io as dio\n",
    "import six\n",
    "six.moves.reload_module(dio)\n",
    "\n",
    "dio.dfm_wind_to_nc('wind_natneighbor_WY2017.amu',\n",
    "                   'wind_natneighbor_WY2017.amv',\n",
    "                   'wind_natneighbor_WY2017.nc')"
   ]
  },
  {
   "cell_type": "code",
   "execution_count": 18,
   "metadata": {},
   "outputs": [],
   "source": [
    "ds=xr.open_dataset('wind_natneighbor_WY2017.nc')"
   ]
  },
  {
   "cell_type": "code",
   "execution_count": 20,
   "metadata": {},
   "outputs": [
    {
     "data": {
      "text/plain": [
       "<matplotlib.image.AxesImage at 0x7f3e84a8ab00>"
      ]
     },
     "execution_count": 20,
     "metadata": {},
     "output_type": "execute_result"
    },
    {
     "data": {
      "image/png": "[encoded data removed]",
      "text/plain": [
       "<Figure size 432x288 with 1 Axes>"
      ]
     },
     "metadata": {
      "needs_background": "light"
     },
     "output_type": "display_data"
    }
   ],
   "source": [
    "plt.figure()\n",
    "plt.imshow(ds.wind_u.isel(time=0).values)"
   ]
  },
  {
   "cell_type": "code",
   "execution_count": null,
   "metadata": {},
   "outputs": [],
   "source": [
    "from stompy.io.local import coamps\n",
    "six.moves.reload_module(coamps)\n",
    "\n",
    "coamps.fetch_coamps_wind(np.datetime64(\"2017-06-01\"),\n",
    "                         np.datetime64(\"2017-12-31\"),\n",
    "                         cache_dir='cache')\n"
   ]
  }
 ],
 "metadata": {
  "kernelspec": {
   "display_name": "Python 3",
   "language": "python",
   "name": "python3"
  },
  "language_info": {
   "codemirror_mode": {
    "name": "ipython",
    "version": 3
   },
   "file_extension": ".py",
   "mimetype": "text/x-python",
   "name": "python",
   "nbconvert_exporter": "python",
   "pygments_lexer": "ipython3",
   "version": "3.7.1"
  }
 },
 "nbformat": 4,
 "nbformat_minor": 2
}
