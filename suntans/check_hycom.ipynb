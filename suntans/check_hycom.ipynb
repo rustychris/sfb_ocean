{
 "cells": [
  {
   "cell_type": "code",
   "execution_count": 8,
   "metadata": {},
   "outputs": [],
   "source": [
    "# can I download hycom files from start of june 2017?\n",
    "from stompy.io.local import hycom\n",
    "import numpy as np\n",
    "import xarray as xr"
   ]
  },
  {
   "cell_type": "code",
   "execution_count": 2,
   "metadata": {},
   "outputs": [],
   "source": [
    "# spatially varying\n",
    "hycom_ll_box=[-124.9, -121.7, 35.9, 39.0]"
   ]
  },
  {
   "cell_type": "code",
   "execution_count": 11,
   "metadata": {},
   "outputs": [],
   "source": [
    "t=np.datetime64(\"2017-06-01 00:00:00\")\n",
    "cache_dir='cache'\n",
    "\n",
    "# around the time of the new model start:\n",
    "fns=hycom.fetch_range(hycom_ll_box[:2],hycom_ll_box[2:],\n",
    "                      [t,t+np.timedelta64(1,'D')],\n",
    "                      cache_dir=cache_dir)\n",
    "\n",
    "# previous runs:\n",
    "t=np.datetime64(\"2017-06-10 00:00:00\")\n",
    "fns_old=hycom.fetch_range(hycom_ll_box[:2],hycom_ll_box[2:],\n",
    "                          [t,t+np.timedelta64(1,'D')],\n",
    "                          cache_dir=cache_dir)\n"
   ]
  },
  {
   "cell_type": "code",
   "execution_count": 12,
   "metadata": {},
   "outputs": [],
   "source": [
    "nc=xr.open_dataset('cache/2017060100--124.90_-121.70_35.90_39.00.nc')\n",
    "nc_old=xr.open_dataset(fns_old[0])\n"
   ]
  },
  {
   "cell_type": "code",
   "execution_count": 19,
   "metadata": {},
   "outputs": [
    {
     "data": {
      "text/plain": [
       "array([-124.88000488, -124.79998779, -124.7199707 , -124.64001465,\n",
       "       -124.55999756, -124.47998047, -124.40002441, -124.32000732,\n",
       "       -124.23999023, -124.16003418, -124.08001709, -124.        ,\n",
       "       -123.91998291, -123.83996582, -123.76000977, -123.67999268,\n",
       "       -123.59997559, -123.52001953, -123.44000244, -123.35998535,\n",
       "       -123.2800293 , -123.20001221, -123.11999512, -123.03997803,\n",
       "       -122.96002197, -122.88000488, -122.79998779, -122.7199707 ,\n",
       "       -122.64001465, -122.55999756, -122.47998047, -122.40002441,\n",
       "       -122.32000732, -122.23999023, -122.16003418, -122.08001709,\n",
       "       -122.        , -121.91998291, -121.83996582, -121.76000977,\n",
       "       -121.67999268])"
      ]
     },
     "execution_count": 19,
     "metadata": {},
     "output_type": "execute_result"
    }
   ],
   "source": [
    "nc.lon.values[:] = (nc.lon.values+180)%360.0 - 180.0\n",
    "nc.lon.values"
   ]
  },
  {
   "cell_type": "code",
   "execution_count": 20,
   "metadata": {},
   "outputs": [
    {
     "data": {
      "text/plain": [
       "array([-124.88000488, -124.79998779, -124.7199707 , -124.64001465,\n",
       "       -124.55999756, -124.47998047, -124.40002441, -124.32000732,\n",
       "       -124.23999023, -124.16003418, -124.08001709, -124.        ,\n",
       "       -123.91998291, -123.83996582, -123.76000977, -123.67999268,\n",
       "       -123.59997559, -123.52001953, -123.44000244, -123.35998535,\n",
       "       -123.2800293 , -123.20001221, -123.11999512, -123.03997803,\n",
       "       -122.96002197, -122.88000488, -122.79998779, -122.7199707 ,\n",
       "       -122.64001465, -122.55999756, -122.47998047, -122.40002441,\n",
       "       -122.32000732, -122.23999023, -122.16003418, -122.08001709,\n",
       "       -122.        , -121.91998291, -121.83996582, -121.76000977,\n",
       "       -121.67999268])"
      ]
     },
     "execution_count": 20,
     "metadata": {},
     "output_type": "execute_result"
    }
   ],
   "source": [
    "nc_old.lon.values\n"
   ]
  },
  {
   "cell_type": "code",
   "execution_count": 13,
   "metadata": {},
   "outputs": [
    {
     "data": {
      "text/plain": [
       "<xarray.Dataset>\n",
       "Dimensions:            (depth: 40, lat: 40, lon: 41, time: 9)\n",
       "Coordinates:\n",
       "  * time               (time) datetime64[ns] 2017-06-10 ... 2017-06-11\n",
       "  * lat                (lat) float64 35.92 36.0 36.08 ... 38.88 38.96 39.04\n",
       "  * lon                (lon) float64 -124.9 -124.8 -124.7 ... -121.8 -121.7\n",
       "  * depth              (depth) float64 0.0 2.0 4.0 6.0 ... 3e+03 4e+03 5e+03\n",
       "Data variables:\n",
       "    salinity_bottom    (time, lat, lon) float32 ...\n",
       "    surf_el            (time, lat, lon) float32 ...\n",
       "    water_temp_bottom  (time, lat, lon) float32 ...\n",
       "    water_u_bottom     (time, lat, lon) float32 ...\n",
       "    water_v_bottom     (time, lat, lon) float32 ...\n",
       "    salinity           (time, depth, lat, lon) float32 ...\n",
       "    water_temp         (time, depth, lat, lon) float32 ...\n",
       "    water_u            (time, depth, lat, lon) float32 ...\n",
       "    water_v            (time, depth, lat, lon) float32 ...\n",
       "Attributes:\n",
       "    classification_level:      UNCLASSIFIED\n",
       "    distribution_statement:    Approved for public release. Distribution unli...\n",
       "    downgrade_date:            not applicable\n",
       "    classification_authority:  not applicable\n",
       "    institution:               Naval Oceanographic Office\n",
       "    source:                    HYCOM archive file\n",
       "    history:                   archv2ncdf3z\n",
       "    field_type:                instantaneous\n",
       "    Conventions:               CF-1.6 NAVO_netcdf_v1.1\n",
       "    History:                   Translated to CF-1.0 Conventions by Netcdf-Jav...\n",
       "    geospatial_lat_min:        35.91999816894531\n",
       "    geospatial_lat_max:        39.040000915527344\n",
       "    geospatial_lon_min:        -124.8800048828125\n",
       "    geospatial_lon_max:        -121.67999267578125"
      ]
     },
     "execution_count": 13,
     "metadata": {},
     "output_type": "execute_result"
    }
   ],
   "source": [
    "nc_old"
   ]
  },
  {
   "cell_type": "code",
   "execution_count": 17,
   "metadata": {},
   "outputs": [
    {
     "data": {
      "text/plain": [
       "<xarray.DataArray 'time' (time: 9)>\n",
       "array(['2017-06-10T00:00:00.000000000', '2017-06-10T03:00:00.000000000',\n",
       "       '2017-06-10T06:00:00.000000000', '2017-06-10T09:00:00.000000000',\n",
       "       '2017-06-10T12:00:00.000000000', '2017-06-10T15:00:00.000000000',\n",
       "       '2017-06-10T18:00:00.000000000', '2017-06-10T21:00:00.000000000',\n",
       "       '2017-06-11T00:00:00.000000000'], dtype='datetime64[ns]')\n",
       "Coordinates:\n",
       "  * time     (time) datetime64[ns] 2017-06-10 2017-06-10T03:00:00 ... 2017-06-11\n",
       "Attributes:\n",
       "    long_name:            Valid Time\n",
       "    time_origin:          2000-01-01 00:00:00\n",
       "    axis:                 T\n",
       "    NAVO_code:            13\n",
       "    _CoordinateAxisType:  Time"
      ]
     },
     "execution_count": 17,
     "metadata": {},
     "output_type": "execute_result"
    }
   ],
   "source": [
    "nc_old.time"
   ]
  }
 ],
 "metadata": {
  "kernelspec": {
   "display_name": "Python 3",
   "language": "python",
   "name": "python3"
  },
  "language_info": {
   "codemirror_mode": {
    "name": "ipython",
    "version": 3
   },
   "file_extension": ".py",
   "mimetype": "text/x-python",
   "name": "python",
   "nbconvert_exporter": "python",
   "pygments_lexer": "ipython3",
   "version": "3.7.1"
  }
 },
 "nbformat": 4,
 "nbformat_minor": 2
}
